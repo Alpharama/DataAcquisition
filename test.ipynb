{
 "cells": [
  {
   "cell_type": "code",
   "execution_count": 1,
   "id": "833c9185",
   "metadata": {},
   "outputs": [
    {
     "name": "stderr",
     "output_type": "stream",
     "text": [
      "/Users/msimoneau/Desktop/MemeCoins/DataAcquisition/MaramaENV/lib/python3.9/site-packages/urllib3/__init__.py:35: NotOpenSSLWarning: urllib3 v2 only supports OpenSSL 1.1.1+, currently the 'ssl' module is compiled with 'LibreSSL 2.8.3'. See: https://github.com/urllib3/urllib3/issues/3020\n",
      "  warnings.warn(\n"
     ]
    }
   ],
   "source": [
    "import pandas as pd\n",
    "import numpy as np \n",
    "import utils as utils"
   ]
  },
  {
   "cell_type": "markdown",
   "id": "f95fac62",
   "metadata": {},
   "source": [
    "# Test"
   ]
  },
  {
   "cell_type": "code",
   "execution_count": 120,
   "id": "5f3f2940",
   "metadata": {},
   "outputs": [],
   "source": [
    "import utils\n",
    "import importlib\n",
    "importlib.reload(utils)\n",
    "\n",
    "data = utils.get_most_boosted_tokens()\n",
    "i = 0\n",
    "token = {\n",
    "    'chainId':data[i]['chainId'],\n",
    "    'tokenAddress':data[i]['tokenAddress'],\n",
    "}\n",
    "data1 = utils.get_pairs_by_token(token)"
   ]
  },
  {
   "cell_type": "code",
   "execution_count": 121,
   "id": "fe0419d3",
   "metadata": {},
   "outputs": [
    {
     "data": {
      "text/plain": [
       "{'chainId': 'solana',\n",
       " 'dexId': 'raydium',\n",
       " 'url': 'https://dexscreener.com/solana/cxk1qpqfdmwymwvwwmr5aarejbatzrrgwgwrxerkcctk',\n",
       " 'pairAddress': 'Cxk1qpQFdmWYMWVwWmR5AaREjBatZRrGwGWrxErKccTk',\n",
       " 'labels': ['CPMM'],\n",
       " 'baseToken': {'address': '6YGmqZ8i3b4TrDDh5mqComviPUKpwGWTyfFNoWfctech',\n",
       "  'name': 'Launchpad',\n",
       "  'symbol': 'RugProof'},\n",
       " 'quoteToken': {'address': 'So11111111111111111111111111111111111111112',\n",
       "  'name': 'Wrapped SOL',\n",
       "  'symbol': 'SOL'},\n",
       " 'priceNative': '0.00001374',\n",
       " 'priceUsd': '0.002538',\n",
       " 'txns': {'m5': {'buys': 89, 'sells': 56},\n",
       "  'h1': {'buys': 1193, 'sells': 777},\n",
       "  'h6': {'buys': 11192, 'sells': 7380},\n",
       "  'h24': {'buys': 67638, 'sells': 23451}},\n",
       " 'volume': {'h24': 7083655.77,\n",
       "  'h6': 2181881.83,\n",
       "  'h1': 223561.19,\n",
       "  'm5': 15549.41},\n",
       " 'priceChange': {'m5': 3.17, 'h1': 20.71, 'h6': 51.13, 'h24': 55586},\n",
       " 'liquidity': {'usd': 179001.35, 'base': 35251925, 'quote': 484.6519},\n",
       " 'fdv': 2538888,\n",
       " 'marketCap': 2538888,\n",
       " 'pairCreatedAt': 1753649950000,\n",
       " 'info': {'imageUrl': 'https://dd.dexscreener.com/ds-data/tokens/solana/6YGmqZ8i3b4TrDDh5mqComviPUKpwGWTyfFNoWfctech.png?key=16694d',\n",
       "  'header': 'https://dd.dexscreener.com/ds-data/tokens/solana/6YGmqZ8i3b4TrDDh5mqComviPUKpwGWTyfFNoWfctech/header.png?key=16694d',\n",
       "  'openGraph': 'https://cdn.dexscreener.com/token-images/og/solana/6YGmqZ8i3b4TrDDh5mqComviPUKpwGWTyfFNoWfctech?timestamp=1753727400000',\n",
       "  'websites': [{'label': 'Website', 'url': 'https://rproof.tech/'}],\n",
       "  'socials': [{'type': 'twitter', 'url': 'https://x.com/rproof_tech'},\n",
       "   {'type': 'telegram', 'url': 'https://t.me/RugProofLaunchpad'}]},\n",
       " 'boosts': {'active': 1100}}"
      ]
     },
     "execution_count": 121,
     "metadata": {},
     "output_type": "execute_result"
    }
   ],
   "source": [
    "data1"
   ]
  },
  {
   "cell_type": "code",
   "execution_count": null,
   "id": "69320ce8",
   "metadata": {},
   "outputs": [],
   "source": []
  }
 ],
 "metadata": {
  "kernelspec": {
   "display_name": "MaramaENV (3.9.6)",
   "language": "python",
   "name": "python3"
  },
  "language_info": {
   "codemirror_mode": {
    "name": "ipython",
    "version": 3
   },
   "file_extension": ".py",
   "mimetype": "text/x-python",
   "name": "python",
   "nbconvert_exporter": "python",
   "pygments_lexer": "ipython3",
   "version": "3.9.6"
  }
 },
 "nbformat": 4,
 "nbformat_minor": 5
}
